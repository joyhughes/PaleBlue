{
 "cells": [
  {
   "cell_type": "code",
   "execution_count": 16,
   "metadata": {},
   "outputs": [
    {
     "data": {
      "text/plain": [
       "-2.5"
      ]
     },
     "execution_count": 16,
     "metadata": {},
     "output_type": "execute_result"
    }
   ],
   "source": [
    "import numpy as np\n",
    "import vectormath as vmath\n",
    "\n",
    "# Base 10 logarithm\n",
    "def log10( x ) :\n",
    "    return np.log(x)/np.log(10.)\n",
    "\n",
    "# normalized astronomical magnitude\n",
    "def magnitude( x, norm=1.) :\n",
    "    return -log10(x/norm)*2.5\n",
    "\n",
    "magnitude(100,10)\n"
   ]
  },
  {
   "cell_type": "code",
   "execution_count": 15,
   "metadata": {},
   "outputs": [
    {
     "data": {
      "image/png": "[encoded data removed]",
      "text/plain": [
       "<Figure size 432x288 with 1 Axes>"
      ]
     },
     "metadata": {},
     "output_type": "display_data"
    },
    {
     "data": {
      "application/vnd.jupyter.widget-view+json": {
       "model_id": "e34ffcd38aa148248464b6ec43bb3b80",
       "version_major": 2,
       "version_minor": 0
      },
      "text/plain": [
       "interactive(children=(FloatSlider(value=90.0, description='phase', max=180.0, step=1.0), FloatSlider(value=0.3…"
      ]
     },
     "metadata": {},
     "output_type": "display_data"
    }
   ],
   "source": [
    "import numpy as np\n",
    "import vectormath as vmath\n",
    "import matplotlib.pyplot as plt\n",
    "from ipywidgets import interact, interactive, fixed, interact_manual\n",
    "import ipywidgets as widgets\n",
    "\n",
    "samples = 50 # of samples in both x and y \n",
    "norm = vmath.Vector3()\n",
    "eye = vmath.Vector3( 0., 0., 1. )\n",
    "crosseye = vmath.Vector3()\n",
    "suncross = vmath.Vector3()\n",
    "sun = vmath.Vector3()\n",
    "planet = np.ndarray((samples,samples))\n",
    "rough = 0.3\n",
    "\n",
    "\n",
    "# Base 10 logarithm\n",
    "def log10( x ) :\n",
    "    return np.log(x)/np.log(10.)\n",
    "\n",
    "# normalized astronomical magnitude\n",
    "def magnitude( x, norm=1.) :\n",
    "    return -log10(x/norm)*2.5\n",
    "\n",
    "def brdf( costhi, costhr, cosphi, a, b):   # Bidirectional Reflectance Distribution Function\n",
    "    if(cosphi>0.):\n",
    "        if costhi > costhr :\n",
    "            sina = np.sqrt(1.0 - costhr**2)\n",
    "            tanb = np.sqrt(1.0 - costhi**2)/costhi\n",
    "        else :\n",
    "            sina = np.sqrt(1.0 - costhi**2)\n",
    "            tanb = np.sqrt(1.0 - costhr**2)/costhr\n",
    "        return costhi*(a + b*cosphi*sina*tanb)\n",
    "    else:\n",
    "        return costhi*a\n",
    "\n",
    "def brightness(phase, rough = 0.3, render=True):\n",
    "    bright = 0.\n",
    "    sun.x = np.sin(phase*np.pi/180.) # vector pointing to sun\n",
    "    sun.y = 0.\n",
    "    sun.z = np.cos(phase*np.pi/180.)\n",
    "    a = 1. - 0.5*(rough**2./(rough**2.+0.33)) # a,b for Oren-Nayar - constant over loop\n",
    "    b = 0.45*(rough**2./(rough**2.+0.09))\n",
    "    # Trace parallel rays towards a sphere\n",
    "    for xsamp in range (0, samples):\n",
    "        for ysamp in range (0, samples):\n",
    "            norm.x = xsamp*2./(samples-1.)-1.\n",
    "            norm.y =  ysamp*2./(samples-1.0)-1.\n",
    "            norm.z = 0.\n",
    "            mag = norm.length\n",
    "            # Check if ray intersects sphere\n",
    "            if mag <= 1.0:\n",
    "                norm.z = np.sqrt(1.0 - mag**2.)\n",
    "                costhi = norm.dot(sun)\n",
    "                #calculate sun and eye vectors projected perpendicular to normal\n",
    "                if  costhi >= 0.:\n",
    "                    sunproj = sun - costhi*norm\n",
    "                    sunproj.normalize()\n",
    "                    eyeproj = eye - norm.dot(eye)*norm\n",
    "                    eyeproj.normalize\n",
    "                    cosphi = sunproj.dot(eyeproj)  \n",
    "                    planet[ysamp][xsamp] = brdf(costhi,norm.z,cosphi,a,b)\n",
    "                else:\n",
    "                    planet[ysamp][xsamp] = 0.\n",
    "            else:\n",
    "                planet[ysamp][xsamp] = 0.\n",
    "            bright += planet[ysamp][xsamp]\n",
    "            \n",
    "    if render:\n",
    "        im = plt.imshow(planet)\n",
    "        plt.show()\n",
    "        \n",
    "    return bright\n",
    "\n",
    "def plotcurve(planet,col,rough) :\n",
    "    phasecurve = np.ndarray(175)\n",
    "\n",
    "    # brightness(drawphase, rough, True) #draw the sample change\n",
    "    \n",
    "    for phase in range (0, 175):\n",
    "        phasecurve[phase] = brightness(phase, rough, False)\n",
    "        if phase == 0 :\n",
    "            fudge = phasecurve[phase]\n",
    "        phasecurve[phase] = magnitude(phasecurve[phase],fudge)\n",
    "   \n",
    "    im = plt.plot(phasecurve,color=col)\n",
    "    plt.ylim(10,-2)\n",
    "    plt.xlabel('Phase Angle')\n",
    "    plt.ylabel('Normalized Magnitude')\n",
    "        \n",
    "plotcurve(\"Mercury\",\"black\",1.0)\n",
    "plotcurve(\"Moon\",\"gray\",0.0)\n",
    "plt.show()\n",
    "interact(brightness, phase=(0., 180., 1.), rough=(0., 1., 0.01));\n"
   ]
  },
  {
   "cell_type": "code",
   "execution_count": null,
   "metadata": {},
   "outputs": [],
   "source": []
  }
 ],
 "metadata": {
  "kernelspec": {
   "display_name": "Python 3",
   "language": "python",
   "name": "python3"
  },
  "language_info": {
   "codemirror_mode": {
    "name": "ipython",
    "version": 3
   },
   "file_extension": ".py",
   "mimetype": "text/x-python",
   "name": "python",
   "nbconvert_exporter": "python",
   "pygments_lexer": "ipython3",
   "version": "3.6.5"
  }
 },
 "nbformat": 4,
 "nbformat_minor": 2
}
